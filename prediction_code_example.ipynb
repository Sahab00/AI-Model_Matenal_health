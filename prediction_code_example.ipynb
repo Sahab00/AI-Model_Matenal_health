{
 "cells": [
  {
   "cell_type": "markdown",
   "id": "9779c63b",
   "metadata": {},
   "source": [
    "\n",
    "The code here is an just an example code, you can add this code with model code, add your on data and see the predictions, hope so this model will help you in your ffute\n",
    "\n",
    "\n"
   ]
  },
  {
   "cell_type": "code",
   "execution_count": null,
   "id": "80b6cf33",
   "metadata": {},
   "outputs": [],
   "source": [
    "import pandas as pd\n",
    "from sklearn.preprocessing import StandardScaler\n",
    "from sklearn.neighbors import KNeighborsClassifier\n",
    "\n",
    "# Assume that your model and scaler have been previously trained and saved\n",
    "# Load or define your trained model (KNN) and scaler here\n",
    "# For example:\n",
    "# knn = ... (your trained model)\n",
    "# scaler = ... (your trained scaler)\n",
    "\n",
    "# Example of making predictions on new data\n",
    "new_data = pd.DataFrame({\n",
    "    'Age': [30, 35],\n",
    "    'SystolicBP': [120, 130],\n",
    "    'DiastolicBP': [80, 85],\n",
    "    'BS': [90, 95],\n",
    "    'BodyTemp': [98.6, 99.0],\n",
    "    'HeartRate': [75, 80]\n",
    "})\n",
    "\n",
    "# Standardizing the new data\n",
    "new_data_scaled = scaler.transform(new_data)\n",
    "\n",
    "# Making predictions\n",
    "predictions = knn.predict(new_data_scaled)\n",
    "\n",
    "# Mapping predictions back to original labels\n",
    "risk_level_mapping = {0: 'low risk', 1: 'mid risk', 2: 'high risk'}\n",
    "predicted_risk_levels = [risk_level_mapping[pred] for pred in predictions]\n",
    "\n",
    "print(\"Predicted Risk Levels for New Data:\", predicted_risk_levels)\n"
   ]
  },
  {
   "cell_type": "code",
   "execution_count": null,
   "id": "4fd12a87",
   "metadata": {},
   "outputs": [],
   "source": []
  }
 ],
 "metadata": {
  "kernelspec": {
   "display_name": "Python 3 (ipykernel)",
   "language": "python",
   "name": "python3"
  },
  "language_info": {
   "codemirror_mode": {
    "name": "ipython",
    "version": 3
   },
   "file_extension": ".py",
   "mimetype": "text/x-python",
   "name": "python",
   "nbconvert_exporter": "python",
   "pygments_lexer": "ipython3",
   "version": "3.11.5"
  }
 },
 "nbformat": 4,
 "nbformat_minor": 5
}
